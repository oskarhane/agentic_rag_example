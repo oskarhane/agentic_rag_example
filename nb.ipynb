{
 "cells": [
  {
   "cell_type": "code",
   "execution_count": 1,
   "metadata": {},
   "outputs": [],
   "source": [
    "%load_ext dotenv\n",
    "%dotenv\n",
    "import os\n",
    "from neo4j import GraphDatabase\n",
    "\n",
    "\n",
    "AUTH = (os.getenv(\"NEO4J_USER\"), os.getenv(\"NEO4J_PASSWORD\"))\n",
    "\n",
    "with GraphDatabase.driver(os.getenv(\"NEO4J_URL\"), auth=(AUTH)) as driver:\n",
    "    driver.verify_connectivity()"
   ]
  },
  {
   "cell_type": "code",
   "execution_count": 2,
   "metadata": {},
   "outputs": [
    {
     "data": {
      "text/plain": [
       "<module 'openai_assistant' from '/Users/oskarhane/Development/tmp/neo4j-genai-design/openai_assistant.py'>"
      ]
     },
     "execution_count": 2,
     "metadata": {},
     "output_type": "execute_result"
    }
   ],
   "source": [
    "from importlib import reload\n",
    "import openai_assistant\n",
    "\n",
    "reload(openai_assistant)"
   ]
  },
  {
   "cell_type": "code",
   "execution_count": 61,
   "metadata": {},
   "outputs": [],
   "source": [
    "from custom_retrievers import movie\n",
    "import retriever_router\n",
    "import neo4j_retrievers\n",
    "import neo4j_rag\n",
    "reload(neo4j_retrievers)\n",
    "reload(movie)\n",
    "reload(retriever_router)\n",
    "reload(neo4j_rag)\n",
    "\n",
    "llm = openai_assistant.OpenAIAssitant()\n",
    "\n",
    "movie_plot_similarity = neo4j_retrievers.VectorRetriever(\n",
    "    driver=driver,\n",
    "    llm=llm, \n",
    "    name=\"movie_plot_similarity\",\n",
    "    index_name=\"moviePlotsEmbedding\"\n",
    ")\n",
    "text2cypher_retriever = neo4j_retrievers.Text2Cypher(driver=driver, llm=llm)\n",
    "movie_retriever = movie.MovieRetriever(driver=driver)\n",
    "\n",
    "agentic_retriever = retriever_router.RetrieverRouter(\n",
    "    llm=llm, \n",
    "    retrievers=[movie_plot_similarity, movie_retriever, text2cypher_retriever]\n",
    ")\n",
    "\n",
    "rag_app = neo4j_rag.Neo4jRAG(llm=llm, retriever=agentic_retriever)\n",
    "# or\n",
    "single_retriever_rag_app = neo4j_rag.Neo4jRAG(llm=llm, retriever=text2cypher_retriever)\n"
   ]
  },
  {
   "cell_type": "code",
   "execution_count": 64,
   "metadata": {},
   "outputs": [
    {
     "name": "stdout",
     "output_type": "stream",
     "text": [
      "------ Agentic retriever ------\n",
      "Expanded questions: [\"What year was the movie 'Casino' released?\"]\n",
      "Updated question: What year was the movie 'Casino' released?\n",
      "MovieRetriever invoked: 'Casino' 'exact'\n",
      "Response from tools: ['[{\"movie\": {\"title\": \"Casino\", \"year\": 1995, \"plot\": \"Greed, deception, money, power, and murder occur between two mobster best friends and a trophy wife over a gambling empire.\"}, \"actors\": [{\"name\": \"Robert De Niro\", \"role\": \"Sam \\'Ace\\' Rothstein\"}, {\"name\": \"Joe Pesci\", \"role\": \"Nicky Santoro\"}, {\"name\": \"Sharon Stone\", \"role\": \"Ginger McKenna\"}, {\"name\": \"James Woods\", \"role\": \"Lester Diamond\"}]}]']\n",
      "Unanswered questions: []\n",
      "--- output ---\n",
      "The movie \"Casino\" was released in 1995.\n",
      "------ Single retriever ------\n",
      "Text2Cypher invoked: What year was the movie \"Casino\" released?\n",
      "MATCH (m:Movie {title: \"Casino\"}) RETURN m.released AS released\n",
      "--- output ---\n",
      "The movie \"Casino\" was released in 1995.\n"
     ]
    }
   ],
   "source": [
    "print(\"------ Agentic retriever ------\")\n",
    "response = rag_app.handle_input('What year was the movie \"Casino\" released?')\n",
    "print(\"--- output ---\")\n",
    "print(response)\n",
    "\n",
    "print(\"------ Single retriever ------\")\n",
    "response = single_retriever_rag_app.handle_input('What year was the movie \"Casino\" released?')\n",
    "print(\"--- output ---\")\n",
    "print(response)"
   ]
  },
  {
   "cell_type": "code",
   "execution_count": 71,
   "metadata": {},
   "outputs": [
    {
     "name": "stdout",
     "output_type": "stream",
     "text": [
      "Expanded questions: ['What movie is about two mobster best friends?', 'What year was the movie released?', 'Who were some actors playing roles in the movie?']\n",
      "Updated question: What movie is about two mobster best friends and a trophy wife over a gambling empire?\n",
      "VectorRetriever invoked: two mobster best friends and a trophy wife over a gambling empire\n",
      "Response from tools: ['{\"movie\": {\"title\": \"Casino\", \"year\": 1995, \"plot\": \"Greed, deception, money, power, and murder occur between two mobster best friends and a trophy wife over a gambling empire.\"}}']\n",
      "Updated question: What year was the movie 'Casino' released?\n",
      "MovieRetriever invoked: 'Casino' 'exact'\n",
      "Response from tools: ['[{\"movie\": {\"title\": \"Casino\", \"year\": 1995, \"plot\": \"Greed, deception, money, power, and murder occur between two mobster best friends and a trophy wife over a gambling empire.\"}, \"actors\": [{\"name\": \"Robert De Niro\", \"role\": \"Sam \\'Ace\\' Rothstein\"}, {\"name\": \"Joe Pesci\", \"role\": \"Nicky Santoro\"}, {\"name\": \"Sharon Stone\", \"role\": \"Ginger McKenna\"}, {\"name\": \"James Woods\", \"role\": \"Lester Diamond\"}]}]']\n",
      "Updated question: Who were some actors playing roles in the movie 'Casino'?\n",
      "MovieRetriever invoked: 'Casino' 'exact'\n",
      "Response from tools: ['[{\"movie\": {\"title\": \"Casino\", \"year\": 1995, \"plot\": \"Greed, deception, money, power, and murder occur between two mobster best friends and a trophy wife over a gambling empire.\"}, \"actors\": [{\"name\": \"Robert De Niro\", \"role\": \"Sam \\'Ace\\' Rothstein\"}, {\"name\": \"Joe Pesci\", \"role\": \"Nicky Santoro\"}, {\"name\": \"Sharon Stone\", \"role\": \"Ginger McKenna\"}, {\"name\": \"James Woods\", \"role\": \"Lester Diamond\"}]}]']\n",
      "Unanswered questions: []\n",
      "--- output ---\n",
      "The movie about two mobster best friends is \"Casino.\" It was released in the year 1995. Some actors playing roles in the movie are Robert De Niro as Sam 'Ace' Rothstein, Joe Pesci as Nicky Santoro, Sharon Stone as Ginger McKenna, and James Woods as Lester Diamond.\n"
     ]
    }
   ],
   "source": [
    "response = rag_app.handle_input('What movie is about two mobster best friends, and what year was it released? And who were some actors playing roles in it?')\n",
    "print(\"--- output ---\")\n",
    "print(response)\n"
   ]
  },
  {
   "cell_type": "code",
   "execution_count": 46,
   "metadata": {},
   "outputs": [
    {
     "name": "stdout",
     "output_type": "stream",
     "text": [
      "Expanded questions: [\"How many actors were in the movie 'Casino'?\"]\n",
      "Updated question: How many actors played roles in the movie 'Casino'?\n",
      "Text2Cypher invoked: How many actors played roles in the movie 'Casino'?\n",
      "MATCH (a:Actor)-[r:ACTED_IN]->(m:Movie {title:'Casino'})\n",
      "RETURN COUNT(DISTINCT a) AS actorCount;\n",
      "Response from tools: ['{\"query\": \"MATCH (a:Actor)-[r:ACTED_IN]->(m:Movie {title:\\'Casino\\'})\\\\nRETURN COUNT(DISTINCT a) AS actorCount;\", \"records\": [{\"actorCount\": 4}]}']\n",
      "Unanswered questions: []\n",
      "--- output ---\n",
      "According to the provided information, there were 4 actors in the movie \"Casino.\"\n"
     ]
    }
   ],
   "source": [
    "response = rag_app.handle_input('How many actors were in the movie \"Casino\"')\n",
    "print(\"--- output ---\")\n",
    "print(response)"
   ]
  },
  {
   "cell_type": "code",
   "execution_count": 73,
   "metadata": {},
   "outputs": [
    {
     "name": "stdout",
     "output_type": "stream",
     "text": [
      "Expanded questions: ['What are two of the highest rated movies that Robert De Niro has acted in?', 'What is the plot of the first movie?', 'What is the plot of the second movie?']\n",
      "Updated question: What are two the highest rated movies Robert De Niro has acted in?\n",
      "Text2Cypher invoked: Highest rated movies Robert De Niro has acted in\n",
      "MATCH (p:Person)-[a:ACTED_IN]->(m:Movie) WHERE p.name = \"Robert De Niro\" RETURN m.title ORDER BY m.imdbRating DESC LIMIT 1\n",
      "Response from tools: ['{\"query\": \"MATCH (p:Person)-[a:ACTED_IN]->(m:Movie) WHERE p.name = \\\\\"Robert De Niro\\\\\" RETURN m.title ORDER BY m.imdbRating DESC LIMIT 1\", \"records\": [{\"m.title\": \"Godfather: Part II, The\"}]}']\n",
      "Updated question: What is the plot of the first movie in a list of movies with their plots?\n",
      "Text2Cypher invoked: What is the plot of the first movie in a list of movies with their plots?\n",
      "MATCH (m:Movie) RETURN m.plot ORDER BY m.released LIMIT 1\n",
      "\n",
      "Response from tools: ['{\"query\": \"MATCH (m:Movie) RETURN m.plot ORDER BY m.released LIMIT 1\\\\n\", \"records\": [{\"m.plot\": \"A group of astronomers go on an expedition to the moon.\"}]}']\n",
      "Updated question: What is the plot of the second movie in the context where a group of astronomers go on an expedition to the moon?\n",
      "VectorRetriever invoked: A group of astronomers go on an expedition to the moon.\n",
      "Response from tools: ['{\"movie\": {\"title\": \"Trip to the Moon, A (Voyage dans la lune, Le)\", \"year\": 1902, \"plot\": \"A group of astronomers go on an expedition to the moon.\"}}']\n",
      "Unanswered questions: ['What are the plots of the two highest rated movies that Robert De Niro has acted in?']\n",
      "Updated question: What are the plots of the two highest rated movies that Robert De Niro has acted in?\n",
      "Text2Cypher invoked: What are the plots of the two highest rated movies that Robert De Niro has acted in?\n",
      "MATCH (a:Actor {name: \"Robert De Niro\"})-[:ACTED_IN]->(m:Movie)\n",
      "RETURN m.plot\n",
      "ORDER BY m.imdbRating DESC\n",
      "LIMIT 2\n",
      "Response from tools: ['{\"query\": \"MATCH (a:Actor {name: \\\\\"Robert De Niro\\\\\"})-[:ACTED_IN]->(m:Movie)\\\\nRETURN m.plot\\\\nORDER BY m.imdbRating DESC\\\\nLIMIT 2\", \"records\": [{\"m.plot\": \"The early life and career of Vito Corleone in 1920s New York is portrayed while his son, Michael, expands and tightens his grip on his crime syndicate stretching from Lake Tahoe, Nevada to pre-revolution 1958 Cuba.\"}, {\"m.plot\": \"Henry Hill and his friends work their way up through the mob hierarchy.\"}]}']\n",
      "--- output ---\n",
      "Two of the highest rated movies that Robert De Niro has acted in are \"Godfather: Part II, The\" and \"Godfather: Part II, The\". The plots of these movies are:\n",
      "1. The early life and career of Vito Corleone in 1920s New York is portrayed while his son, Michael, expands and tightens his grip on his crime syndicate stretching from Lake Tahoe, Nevada to pre-revolution 1958 Cuba.\n",
      "2. Henry Hill and his friends work their way up through the mob hierarchy.\n"
     ]
    }
   ],
   "source": [
    "response = rag_app.handle_input('What are two the highest rated movies Robert De Niro has acted in? What are the plots in those movies?')\n",
    "print(\"--- output ---\")\n",
    "print(response)"
   ]
  }
 ],
 "metadata": {
  "kernelspec": {
   "display_name": "Python 3",
   "language": "python",
   "name": "python3"
  },
  "language_info": {
   "codemirror_mode": {
    "name": "ipython",
    "version": 3
   },
   "file_extension": ".py",
   "mimetype": "text/x-python",
   "name": "python",
   "nbconvert_exporter": "python",
   "pygments_lexer": "ipython3",
   "version": "3.11.6"
  }
 },
 "nbformat": 4,
 "nbformat_minor": 2
}
