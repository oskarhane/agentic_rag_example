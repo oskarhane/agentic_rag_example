{
 "cells": [
  {
   "cell_type": "code",
   "execution_count": 1,
   "metadata": {},
   "outputs": [],
   "source": [
    "%load_ext dotenv\n",
    "%dotenv\n",
    "import os\n",
    "from neo4j import GraphDatabase\n",
    "\n",
    "\n",
    "AUTH = (os.getenv(\"NEO4J_USER\"), os.getenv(\"NEO4J_PASSWORD\"))\n",
    "\n",
    "with GraphDatabase.driver(os.getenv(\"NEO4J_URL\"), auth=(AUTH)) as driver:\n",
    "    driver.verify_connectivity()"
   ]
  },
  {
   "cell_type": "code",
   "execution_count": 2,
   "metadata": {},
   "outputs": [
    {
     "data": {
      "text/plain": [
       "<module 'openai_assistant' from '/Users/oskarhane/Development/tmp/neo4j-genai-design/openai_assistant.py'>"
      ]
     },
     "execution_count": 2,
     "metadata": {},
     "output_type": "execute_result"
    }
   ],
   "source": [
    "from importlib import reload\n",
    "import openai_assistant\n",
    "\n",
    "reload(openai_assistant)"
   ]
  },
  {
   "cell_type": "code",
   "execution_count": 23,
   "metadata": {},
   "outputs": [],
   "source": [
    "from retrievers import plot_vector, movie, text2cypher\n",
    "import builtin_retrievers\n",
    "import retriever_router\n",
    "import neo4j_rag\n",
    "reload(plot_vector)\n",
    "reload(movie)\n",
    "reload(text2cypher)\n",
    "reload(builtin_retrievers)\n",
    "reload(retriever_router)\n",
    "reload(neo4j_rag)\n",
    "\n",
    "llm = openai_assistant.OpenAIAssitant()\n",
    "\n",
    "answer_exist_retriever = builtin_retrievers.AnswerInContext()\n",
    "vector_retriever = plot_vector.PlotVectorRetriever(\n",
    "    driver=driver,\n",
    "    llm=llm\n",
    ")\n",
    "movie_retriever = movie.MovieRetriever(driver=driver)\n",
    "text2cypher_retriever = text2cypher.Text2Cypher(driver=driver, llm=llm)\n",
    "\n",
    "agentic_retriever = retriever_router.RetrieverRouter(llm=llm, retrievers=[answer_exist_retriever, vector_retriever, movie_retriever, text2cypher_retriever])\n",
    "\n",
    "rag_app = neo4j_rag.Neo4jRAG(llm=llm, retriever=agentic_retriever)\n",
    "# or\n",
    "# rag_app = Neo4jRAG(llm=ass, retriever=text2cypher_retriever)\n"
   ]
  },
  {
   "cell_type": "code",
   "execution_count": 24,
   "metadata": {},
   "outputs": [
    {
     "name": "stdout",
     "output_type": "stream",
     "text": [
      "[{\"type\": \"function\", \"function\": {\"name\": \"extract_answer_from_context\", \"description\": \"If a complete and satisfactionary answer to the question already is provided in context, use this tool.\", \"parameters\": {\"type\": \"object\", \"properties\": {\"answer\": {\"type\": \"string\", \"description\": \"The answer to the question\"}}, \"required\": [\"answer\"]}}}, {\"type\": \"function\", \"function\": {\"name\": \"get_movie_by_plot\", \"description\": \"Matches movie taglines / stories to a user's input, and returns information about the movie.\", \"parameters\": {\"type\": \"object\", \"properties\": {\"plot\": {\"type\": \"string\", \"description\": \"The plot / story / tagline of the movie\"}}, \"required\": [\"plot\"]}}}, {\"type\": \"function\", \"function\": {\"name\": \"get_movie_from_name\", \"description\": \"Get movie details by providing the movie title. Returns actors and plot.\", \"parameters\": {\"type\": \"object\", \"properties\": {\"title\": {\"type\": \"string\", \"description\": \"The title of the movie\"}, \"match_type\": {\"type\": \"string\", \"enum\": [\"exact\", \"contains\"], \"description\": \"The match type to use\"}}, \"required\": [\"title\", \"match_type\"]}}}, {\"type\": \"function\", \"function\": {\"name\": \"custom_db_query\", \"description\": \"For questions that require a custom database query. Like counts, sums, recommendations, etc.\", \"parameters\": {\"type\": \"object\", \"properties\": {\"question\": {\"type\": \"string\", \"description\": \"The question to find the answer for\"}}, \"required\": [\"question\"]}}}]\n",
      "Expanded questions: [\"What year was the movie 'Casino' released?\"]\n",
      "Updated question: In what year was the movie 'Casino' released?\n",
      "MovieStrategy invoked: 'Casino' 'exact'\n",
      "Response from tools: ['[{\"movie\": {\"title\": \"Casino\", \"year\": 1995, \"plot\": \"Greed, deception, money, power, and murder occur between two mobster best friends and a trophy wife over a gambling empire.\"}, \"actors\": [{\"name\": \"Robert De Niro\", \"role\": \"Sam \\'Ace\\' Rothstein\"}, {\"name\": \"Joe Pesci\", \"role\": \"Nicky Santoro\"}, {\"name\": \"Sharon Stone\", \"role\": \"Ginger McKenna\"}, {\"name\": \"James Woods\", \"role\": \"Lester Diamond\"}]}]']\n",
      "Unanswered questions: []\n",
      "--- output ---\n",
      "The movie \"Casino\" was released in 1995.\n"
     ]
    }
   ],
   "source": [
    "response = rag_app.handle_input('What year was the movie \"Casino\" released?')\n",
    "print(\"--- output ---\")\n",
    "print(response)"
   ]
  },
  {
   "cell_type": "code",
   "execution_count": 26,
   "metadata": {},
   "outputs": [
    {
     "name": "stdout",
     "output_type": "stream",
     "text": [
      "[{\"type\": \"function\", \"function\": {\"name\": \"extract_answer_from_context\", \"description\": \"If a complete and satisfactionary answer to the question already is provided in context, use this tool.\", \"parameters\": {\"type\": \"object\", \"properties\": {\"answer\": {\"type\": \"string\", \"description\": \"The answer to the question\"}}, \"required\": [\"answer\"]}}}, {\"type\": \"function\", \"function\": {\"name\": \"get_movie_by_plot\", \"description\": \"Matches movie taglines / stories to a user's input, and returns information about the movie.\", \"parameters\": {\"type\": \"object\", \"properties\": {\"plot\": {\"type\": \"string\", \"description\": \"The plot / story / tagline of the movie\"}}, \"required\": [\"plot\"]}}}, {\"type\": \"function\", \"function\": {\"name\": \"get_movie_from_name\", \"description\": \"Get movie details by providing the movie title. Returns actors and plot.\", \"parameters\": {\"type\": \"object\", \"properties\": {\"title\": {\"type\": \"string\", \"description\": \"The title of the movie\"}, \"match_type\": {\"type\": \"string\", \"enum\": [\"exact\", \"contains\"], \"description\": \"The match type to use\"}}, \"required\": [\"title\", \"match_type\"]}}}, {\"type\": \"function\", \"function\": {\"name\": \"custom_db_query\", \"description\": \"For questions that require a custom database query. Like counts, sums, recommendations, etc.\", \"parameters\": {\"type\": \"object\", \"properties\": {\"question\": {\"type\": \"string\", \"description\": \"The question to find the answer for\"}}, \"required\": [\"question\"]}}}]\n",
      "Expanded questions: ['What movie is about two mobster best friends?', 'When was the movie released?', 'Who were some actors playing roles in the movie?']\n",
      "Updated question: Can you provide the title of the movie that is about two mobster best friends?\n",
      "VectorStrategy invoked: two mobster best friends\n",
      "Response from tools: ['{\"movie\": {\"title\": \"Casino\", \"year\": 1995, \"plot\": \"Greed, deception, money, power, and murder occur between two mobster best friends and a trophy wife over a gambling empire.\"}}']\n",
      "Updated question: When was the movie 'Casino' released?\n",
      "MovieStrategy invoked: 'Casino' 'exact'\n",
      "Response from tools: ['[{\"movie\": {\"title\": \"Casino\", \"year\": 1995, \"plot\": \"Greed, deception, money, power, and murder occur between two mobster best friends and a trophy wife over a gambling empire.\"}, \"actors\": [{\"name\": \"Robert De Niro\", \"role\": \"Sam \\'Ace\\' Rothstein\"}, {\"name\": \"Joe Pesci\", \"role\": \"Nicky Santoro\"}, {\"name\": \"Sharon Stone\", \"role\": \"Ginger McKenna\"}, {\"name\": \"James Woods\", \"role\": \"Lester Diamond\"}]}]']\n",
      "Updated question: Can you provide the names of some actors and their respective roles in the movie 'Casino'?\n",
      "MovieStrategy invoked: 'Casino' 'exact'\n",
      "Response from tools: ['[{\"movie\": {\"title\": \"Casino\", \"year\": 1995, \"plot\": \"Greed, deception, money, power, and murder occur between two mobster best friends and a trophy wife over a gambling empire.\"}, \"actors\": [{\"name\": \"Robert De Niro\", \"role\": \"Sam \\'Ace\\' Rothstein\"}, {\"name\": \"Joe Pesci\", \"role\": \"Nicky Santoro\"}, {\"name\": \"Sharon Stone\", \"role\": \"Ginger McKenna\"}, {\"name\": \"James Woods\", \"role\": \"Lester Diamond\"}]}]']\n",
      "Unanswered questions: []\n",
      "--- output ---\n",
      "The movie about two mobster best friends is \"Casino.\" It was released in 1995. Some actors playing roles in the movie are Robert De Niro as Sam 'Ace' Rothstein, Joe Pesci as Nicky Santoro, Sharon Stone as Ginger McKenna, and James Woods as Lester Diamond.\n"
     ]
    }
   ],
   "source": [
    "response = rag_app.handle_input('What movie is about two mobster best friends, and what year was it released? And who were some actors playing roles in it?')\n",
    "print(\"--- output ---\")\n",
    "print(response)\n"
   ]
  },
  {
   "cell_type": "code",
   "execution_count": 28,
   "metadata": {},
   "outputs": [
    {
     "name": "stdout",
     "output_type": "stream",
     "text": [
      "[{\"type\": \"function\", \"function\": {\"name\": \"extract_answer_from_context\", \"description\": \"If a complete and satisfactionary answer to the question already is provided in context, use this tool.\", \"parameters\": {\"type\": \"object\", \"properties\": {\"answer\": {\"type\": \"string\", \"description\": \"The answer to the question\"}}, \"required\": [\"answer\"]}}}, {\"type\": \"function\", \"function\": {\"name\": \"get_movie_by_plot\", \"description\": \"Matches movie taglines / stories to a user's input, and returns information about the movie.\", \"parameters\": {\"type\": \"object\", \"properties\": {\"plot\": {\"type\": \"string\", \"description\": \"The plot / story / tagline of the movie\"}}, \"required\": [\"plot\"]}}}, {\"type\": \"function\", \"function\": {\"name\": \"get_movie_from_name\", \"description\": \"Get movie details by providing the movie title. Returns actors and plot.\", \"parameters\": {\"type\": \"object\", \"properties\": {\"title\": {\"type\": \"string\", \"description\": \"The title of the movie\"}, \"match_type\": {\"type\": \"string\", \"enum\": [\"exact\", \"contains\"], \"description\": \"The match type to use\"}}, \"required\": [\"title\", \"match_type\"]}}}, {\"type\": \"function\", \"function\": {\"name\": \"custom_db_query\", \"description\": \"For questions that require a custom database query. Like counts, sums, recommendations, etc.\", \"parameters\": {\"type\": \"object\", \"properties\": {\"question\": {\"type\": \"string\", \"description\": \"The question to find the answer for\"}}, \"required\": [\"question\"]}}}]\n",
      "Expanded questions: [\"How many actors were in the movie 'Casino'?\"]\n",
      "Updated question: How many actors were part of the cast in the movie 'Casino'?\n",
      "MovieStrategy invoked: 'Casino' 'exact'\n",
      "Response from tools: ['[{\"movie\": {\"title\": \"Casino\", \"year\": 1995, \"plot\": \"Greed, deception, money, power, and murder occur between two mobster best friends and a trophy wife over a gambling empire.\"}, \"actors\": [{\"name\": \"Robert De Niro\", \"role\": \"Sam \\'Ace\\' Rothstein\"}, {\"name\": \"Joe Pesci\", \"role\": \"Nicky Santoro\"}, {\"name\": \"Sharon Stone\", \"role\": \"Ginger McKenna\"}, {\"name\": \"James Woods\", \"role\": \"Lester Diamond\"}]}]']\n",
      "Unanswered questions: []\n",
      "--- output ---\n",
      "There were four actors in the movie \"Casino\".\n"
     ]
    }
   ],
   "source": [
    "response = rag_app.handle_input('How many actors were in the movie \"Casino\"')\n",
    "print(\"--- output ---\")\n",
    "print(response)"
   ]
  },
  {
   "cell_type": "code",
   "execution_count": 27,
   "metadata": {},
   "outputs": [
    {
     "name": "stdout",
     "output_type": "stream",
     "text": [
      "[{\"type\": \"function\", \"function\": {\"name\": \"extract_answer_from_context\", \"description\": \"If a complete and satisfactionary answer to the question already is provided in context, use this tool.\", \"parameters\": {\"type\": \"object\", \"properties\": {\"answer\": {\"type\": \"string\", \"description\": \"The answer to the question\"}}, \"required\": [\"answer\"]}}}, {\"type\": \"function\", \"function\": {\"name\": \"get_movie_by_plot\", \"description\": \"Matches movie taglines / stories to a user's input, and returns information about the movie.\", \"parameters\": {\"type\": \"object\", \"properties\": {\"plot\": {\"type\": \"string\", \"description\": \"The plot / story / tagline of the movie\"}}, \"required\": [\"plot\"]}}}, {\"type\": \"function\", \"function\": {\"name\": \"get_movie_from_name\", \"description\": \"Get movie details by providing the movie title. Returns actors and plot.\", \"parameters\": {\"type\": \"object\", \"properties\": {\"title\": {\"type\": \"string\", \"description\": \"The title of the movie\"}, \"match_type\": {\"type\": \"string\", \"enum\": [\"exact\", \"contains\"], \"description\": \"The match type to use\"}}, \"required\": [\"title\", \"match_type\"]}}}, {\"type\": \"function\", \"function\": {\"name\": \"custom_db_query\", \"description\": \"For questions that require a custom database query. Like counts, sums, recommendations, etc.\", \"parameters\": {\"type\": \"object\", \"properties\": {\"question\": {\"type\": \"string\", \"description\": \"The question to find the answer for\"}}, \"required\": [\"question\"]}}}]\n",
      "Expanded questions: ['What are two the highest rated movies Robert De Niro has acted in?', 'What is the plot of the highest rated movie Robert De Niro has acted in?', 'What is the plot of the second highest rated movie Robert De Niro has acted in?']\n",
      "Updated question: What are the titles of the two highest rated movies in which Robert De Niro has acted?\n",
      "Text2Cypher invoked: What are the titles of the two highest rated movies in which Robert De Niro has acted?\n",
      "MATCH (a:Person)-[r:ACTED_IN]->(m:Movie)<-[:RATED]-(u:User)\n",
      "WHERE a.name = 'Robert De Niro'\n",
      "RETURN m.title\n",
      "ORDER BY m.imdbRating DESC\n",
      "LIMIT 2\n",
      "Response from tools: ['[{\"m.title\": \"Godfather: Part II, The\"}, {\"m.title\": \"Godfather: Part II, The\"}]']\n",
      "Updated question: What is the plot of the highest rated movie Robert De Niro has acted in according to IMDb?\n",
      "MovieStrategy invoked: 'Godfather: Part II, The' 'exact'\n",
      "Response from tools: ['[{\"movie\": {\"title\": \"Godfather: Part II, The\", \"year\": 1974, \"plot\": \"The early life and career of Vito Corleone in 1920s New York is portrayed while his son, Michael, expands and tightens his grip on his crime syndicate stretching from Lake Tahoe, Nevada to pre-revolution 1958 Cuba.\"}, \"actors\": [{\"name\": \"Al Pacino\", \"role\": \"Don Michael Corleone\"}, {\"name\": \"Robert De Niro\", \"role\": \"Don Vito Corleone\"}, {\"name\": \"Robert Duvall\", \"role\": \"Thomas \\\\\"Tom\\\\\" Hagen\"}, {\"name\": \"Diane Keaton\", \"role\": \"Kay Corleone\"}]}]']\n",
      "Updated question: What is the plot of the second highest rated movie Robert De Niro has acted in?\n",
      "Text2Cypher invoked: plot of the second highest rated movie Robert De Niro has acted in\n",
      "MATCH (a:Actor {name: 'Robert De Niro'})-[:ACTED_IN]->(m:Movie)<-[:RATED]-(u:User)\n",
      "RETURN m.plot\n",
      "ORDER BY u.rating DESC\n",
      "SKIP 1\n",
      "LIMIT 1\n",
      "Response from tools: ['[{\"m.plot\": \"An in-depth examination of the ways in which the U.S. Vietnam war impacts and disrupts the lives of people in a small industrial town in Pennsylvania.\"}]']\n",
      "Unanswered questions: []\n",
      "--- output ---\n",
      "The two highest rated movies that Robert De Niro has acted in are: \"Godfather: Part II, The\" and \"Godfather: Part II, The\". \n",
      "\n",
      "The plot of \"Godfather: Part II, The\" is: \"The early life and career of Vito Corleone in 1920s New York is portrayed while his son, Michael, expands and tightens his grip on his crime syndicate stretching from Lake Tahoe, Nevada to pre-revolution 1958 Cuba.\"\n",
      "\n",
      "I'm sorry, but I do not have the plot information for the second highest rated movie Robert De Niro has acted in.\n"
     ]
    }
   ],
   "source": [
    "response = rag_app.handle_input('What are two the highest rated movies Robert De Niro has acted in? What are the plots in those movies?')\n",
    "print(\"--- output ---\")\n",
    "print(response)"
   ]
  }
 ],
 "metadata": {
  "kernelspec": {
   "display_name": "Python 3",
   "language": "python",
   "name": "python3"
  },
  "language_info": {
   "codemirror_mode": {
    "name": "ipython",
    "version": 3
   },
   "file_extension": ".py",
   "mimetype": "text/x-python",
   "name": "python",
   "nbconvert_exporter": "python",
   "pygments_lexer": "ipython3",
   "version": "3.11.6"
  }
 },
 "nbformat": 4,
 "nbformat_minor": 2
}
