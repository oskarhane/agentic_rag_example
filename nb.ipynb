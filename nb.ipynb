{
 "cells": [
  {
   "cell_type": "code",
   "execution_count": 3,
   "metadata": {},
   "outputs": [],
   "source": [
    "%load_ext dotenv\n",
    "%dotenv\n",
    "import os\n",
    "from neo4j import GraphDatabase\n",
    "\n",
    "\n",
    "AUTH = (os.getenv(\"NEO4J_USER\"), os.getenv(\"NEO4J_PASSWORD\"))\n",
    "\n",
    "with GraphDatabase.driver(os.getenv(\"NEO4J_URL\"), auth=(AUTH)) as driver:\n",
    "    driver.verify_connectivity()"
   ]
  },
  {
   "cell_type": "code",
   "execution_count": 4,
   "metadata": {},
   "outputs": [
    {
     "data": {
      "text/plain": [
       "<module 'openai_assistant' from '/Users/oskarhane/Development/tmp/neo4j-genai-design/openai_assistant.py'>"
      ]
     },
     "execution_count": 4,
     "metadata": {},
     "output_type": "execute_result"
    }
   ],
   "source": [
    "from importlib import reload\n",
    "import router\n",
    "import openai_assistant\n",
    "\n",
    "reload(router)\n",
    "reload(openai_assistant)"
   ]
  },
  {
   "cell_type": "code",
   "execution_count": 6,
   "metadata": {},
   "outputs": [],
   "source": [
    "\n",
    "from retrievers import plot_vector, movie, text2cypher\n",
    "import builtin_retrievers\n",
    "reload(plot_vector)\n",
    "reload(movie)\n",
    "reload(text2cypher)\n",
    "reload(builtin_retrievers)\n",
    "\n",
    "ass = openai_assistant.OpenAIAssitant()\n",
    "\n",
    "answer_found_retriever = builtin_retrievers.AnswerInContext()\n",
    "vector_retriever = plot_vector.PlotVectorRetriever(\n",
    "    driver=driver,\n",
    "    llm=ass\n",
    ")\n",
    "movie_retriever = movie.MovieRetriever(driver=driver)\n",
    "text2cypher_retriever = text2cypher.Text2Cypher(driver=driver, llm=ass)\n",
    "\n",
    "rag_app = router.RetrieverRouter(ass)\n",
    "rag_app.load_retriever(answer_found_retriever)\n",
    "rag_app.load_retriever(vector_retriever)\n",
    "rag_app.load_retriever(movie_retriever)\n",
    "rag_app.load_retriever(text2cypher_retriever)\n"
   ]
  },
  {
   "cell_type": "code",
   "execution_count": 7,
   "metadata": {},
   "outputs": [
    {
     "name": "stdout",
     "output_type": "stream",
     "text": [
      "[{\"type\": \"function\", \"function\": {\"name\": \"extract_answer_from_context\", \"description\": \"If a complete and satisfactionary answer to the question already is provided in context, use this tool.\", \"parameters\": {\"type\": \"object\", \"properties\": {\"answer\": {\"type\": \"string\", \"description\": \"The answer to the question\"}}, \"required\": [\"answer\"]}}}, {\"type\": \"function\", \"function\": {\"name\": \"get_movie_by_plot\", \"description\": \"Matches movie taglines / stories to a user's input, and returns information about the movie.\", \"parameters\": {\"type\": \"object\", \"properties\": {\"plot\": {\"type\": \"string\", \"description\": \"The plot / story / tagline of the movie\"}}, \"required\": [\"plot\"]}}}, {\"type\": \"function\", \"function\": {\"name\": \"get_movie_from_name\", \"description\": \"Get movie details by providing the movie title. Returns actors and plot.\", \"parameters\": {\"type\": \"object\", \"properties\": {\"title\": {\"type\": \"string\", \"description\": \"The title of the movie\"}, \"match_type\": {\"type\": \"string\", \"enum\": [\"exact\", \"contains\"], \"description\": \"The match type to use\"}}, \"required\": [\"title\", \"match_type\"]}}}, {\"type\": \"function\", \"function\": {\"name\": \"custom_db_query\", \"description\": \"For questions that require a custom database query. Like counts, sums, recommendations, etc.\", \"parameters\": {\"type\": \"object\", \"properties\": {\"question\": {\"type\": \"string\", \"description\": \"The question to find the answer for\"}}, \"required\": [\"question\"]}}}]\n",
      "Expanded questions: [\"What year was the movie 'Casino' released?\"]\n",
      "Updated question: [\"In what year was the movie 'Casino' released?\"]\n",
      "MovieStrategy invoked: 'Casino' 'exact'\n",
      "Response from tools: ['[{\"movie\": {\"title\": \"Casino\", \"year\": 1995, \"plot\": \"Greed, deception, money, power, and murder occur between two mobster best friends and a trophy wife over a gambling empire.\"}, \"actors\": [{\"name\": \"Robert De Niro\", \"role\": \"Sam \\'Ace\\' Rothstein\"}, {\"name\": \"Joe Pesci\", \"role\": \"Nicky Santoro\"}, {\"name\": \"Sharon Stone\", \"role\": \"Ginger McKenna\"}, {\"name\": \"James Woods\", \"role\": \"Lester Diamond\"}]}]']\n",
      "--- output ---\n",
      "The movie \"Casino\" was released in 1995.\n"
     ]
    }
   ],
   "source": [
    "response = rag_app.handle_input('What year was the movie \"Casino\" released?')\n",
    "print(\"--- output ---\")\n",
    "print(response)"
   ]
  },
  {
   "cell_type": "code",
   "execution_count": 92,
   "metadata": {},
   "outputs": [
    {
     "name": "stdout",
     "output_type": "stream",
     "text": [
      "[{\"type\": \"function\", \"function\": {\"name\": \"extract_answer_from_context\", \"description\": \"If a complete and satisfactionary answer to the question already is provided in context, use this tool.\", \"parameters\": {\"type\": \"object\", \"properties\": {\"answer\": {\"type\": \"string\", \"description\": \"The answer to the question\"}}, \"required\": [\"answer\"]}}}, {\"type\": \"function\", \"function\": {\"name\": \"get_movie_by_plot\", \"description\": \"Matches movie taglines / stories to a user's input, and returns information about the movie.\", \"parameters\": {\"type\": \"object\", \"properties\": {\"plot\": {\"type\": \"string\", \"description\": \"The plot / story / tagline of the movie\"}}, \"required\": [\"plot\"]}}}, {\"type\": \"function\", \"function\": {\"name\": \"get_movie_from_name\", \"description\": \"Get movie details by providing the movie title. Returns actors and plot.\", \"parameters\": {\"type\": \"object\", \"properties\": {\"title\": {\"type\": \"string\", \"description\": \"The title of the movie\"}, \"match_type\": {\"type\": \"string\", \"enum\": [\"exact\", \"contains\"], \"description\": \"The match type to use\"}}, \"required\": [\"title\", \"match_type\"]}}}, {\"type\": \"function\", \"function\": {\"name\": \"custom_db_query\", \"description\": \"For questions that require a custom database query. Like counts, sums, recommendations, etc.\", \"parameters\": {\"type\": \"object\", \"properties\": {\"question\": {\"type\": \"string\", \"description\": \"The question to find the answer for\"}}, \"required\": [\"question\"]}}}]\n",
      "Expanded questions: ['What movie is about two mobster best friends?', 'What year was the movie released?', 'Who were some actors playing roles in the movie?']\n",
      "Updated question: ['What movie is about two mobster best friends? Can you provide the title of the movie where two mobster best friends are the main characters?']\n",
      "VectorStrategy invoked: two mobster best friends\n",
      "Response from tools: ['{\"movie\": {\"title\": \"Casino\", \"year\": 1995, \"plot\": \"Greed, deception, money, power, and murder occur between two mobster best friends and a trophy wife over a gambling empire.\"}}']\n",
      "Updated question: [\"In what year was the movie 'Casino' released?\"]\n",
      "MovieStrategy invoked: 'Casino' 'exact'\n",
      "Response from tools: ['[{\"movie\": {\"title\": \"Casino\", \"year\": 1995, \"plot\": \"Greed, deception, money, power, and murder occur between two mobster best friends and a trophy wife over a gambling empire.\"}, \"actors\": [{\"name\": \"Robert De Niro\", \"role\": \"Sam \\'Ace\\' Rothstein\"}, {\"name\": \"Joe Pesci\", \"role\": \"Nicky Santoro\"}, {\"name\": \"Sharon Stone\", \"role\": \"Ginger McKenna\"}, {\"name\": \"James Woods\", \"role\": \"Lester Diamond\"}]}]']\n",
      "Updated question: [\"What are the names of the actors and their roles in the movie 'Casino'?\"]\n",
      "MovieStrategy invoked: 'Casino' 'exact'\n",
      "Response from tools: ['[{\"movie\": {\"title\": \"Casino\", \"year\": 1995, \"plot\": \"Greed, deception, money, power, and murder occur between two mobster best friends and a trophy wife over a gambling empire.\"}, \"actors\": [{\"name\": \"Robert De Niro\", \"role\": \"Sam \\'Ace\\' Rothstein\"}, {\"name\": \"Joe Pesci\", \"role\": \"Nicky Santoro\"}, {\"name\": \"Sharon Stone\", \"role\": \"Ginger McKenna\"}, {\"name\": \"James Woods\", \"role\": \"Lester Diamond\"}]}]']\n",
      "--- output ---\n",
      "The movie that is about two mobster best friends is \"Casino,\" released in 1995. Some actors playing roles in the movie include Robert De Niro as Sam 'Ace' Rothstein, Joe Pesci as Nicky Santoro, Sharon Stone as Ginger McKenna, and James Woods as Lester Diamond.\n"
     ]
    }
   ],
   "source": [
    "response = rag_app.handle_input('What movie is about two mobster best friends, and what year was it released? And who were some actors playing roles in it?')\n",
    "print(\"--- output ---\")\n",
    "print(response)\n"
   ]
  },
  {
   "cell_type": "code",
   "execution_count": 52,
   "metadata": {},
   "outputs": [
    {
     "name": "stdout",
     "output_type": "stream",
     "text": [
      "[{\"type\": \"function\", \"function\": {\"name\": \"extract_answer_from_context\", \"description\": \"If a complete and satisfactionary answer to the question already is provided in context, use this tool.\", \"parameters\": {\"type\": \"object\", \"properties\": {\"answer\": {\"type\": \"string\", \"description\": \"The answer to the question\"}}, \"required\": [\"answer\"]}}}, {\"type\": \"function\", \"function\": {\"name\": \"get_movie_by_plot\", \"description\": \"Matches movie taglines / stories to a user's input, and returns information about the movie.\", \"parameters\": {\"type\": \"object\", \"properties\": {\"plot\": {\"type\": \"string\", \"description\": \"The plot / story / tagline of the movie\"}}, \"required\": [\"plot\"]}}}, {\"type\": \"function\", \"function\": {\"name\": \"get_movie_from_name\", \"description\": \"Get movie details by providing the movie title. Returns actors and plot.\", \"parameters\": {\"type\": \"object\", \"properties\": {\"title\": {\"type\": \"string\", \"description\": \"The title of the movie\"}, \"match_type\": {\"type\": \"string\", \"enum\": [\"exact\", \"contains\"], \"description\": \"The match type to use\"}}, \"required\": [\"title\", \"match_type\"]}}}, {\"type\": \"function\", \"function\": {\"name\": \"custom_db_query\", \"description\": \"For questions that require a custom database query. Like counts, sums, recommendations, etc.\", \"parameters\": {\"type\": \"object\", \"properties\": {\"question\": {\"type\": \"string\", \"description\": \"The question to find the answer for\"}}, \"required\": [\"question\"]}}}]\n",
      "[\"How many actors were in the movie 'Casino'?\"]\n",
      "Updated question: How many actors were in the movie 'Casino'?\n",
      "MovieStrategy invoked: 'Casino' 'exact'\n",
      "From tools: ['[{\"movie\": {\"title\": \"Casino\", \"year\": 1995, \"plot\": \"Greed, deception, money, power, and murder occur between two mobster best friends and a trophy wife over a gambling empire.\"}, \"actors\": [{\"name\": \"Robert De Niro\", \"role\": \"Sam \\'Ace\\' Rothstein\"}, {\"name\": \"Joe Pesci\", \"role\": \"Nicky Santoro\"}, {\"name\": \"Sharon Stone\", \"role\": \"Ginger McKenna\"}, {\"name\": \"James Woods\", \"role\": \"Lester Diamond\"}]}]']\n",
      "In the movie \"Casino,\" there were 4 actors.\n"
     ]
    }
   ],
   "source": [
    "response = rag_app.handle_input('How many actors were in the movie \"Casino\"')\n",
    "print(\"--- output ---\")\n",
    "print(response)"
   ]
  },
  {
   "cell_type": "code",
   "execution_count": 96,
   "metadata": {},
   "outputs": [
    {
     "name": "stdout",
     "output_type": "stream",
     "text": [
      "[{\"type\": \"function\", \"function\": {\"name\": \"extract_answer_from_context\", \"description\": \"If a complete and satisfactionary answer to the question already is provided in context, use this tool.\", \"parameters\": {\"type\": \"object\", \"properties\": {\"answer\": {\"type\": \"string\", \"description\": \"The answer to the question\"}}, \"required\": [\"answer\"]}}}, {\"type\": \"function\", \"function\": {\"name\": \"get_movie_by_plot\", \"description\": \"Matches movie taglines / stories to a user's input, and returns information about the movie.\", \"parameters\": {\"type\": \"object\", \"properties\": {\"plot\": {\"type\": \"string\", \"description\": \"The plot / story / tagline of the movie\"}}, \"required\": [\"plot\"]}}}, {\"type\": \"function\", \"function\": {\"name\": \"get_movie_from_name\", \"description\": \"Get movie details by providing the movie title. Returns actors and plot.\", \"parameters\": {\"type\": \"object\", \"properties\": {\"title\": {\"type\": \"string\", \"description\": \"The title of the movie\"}, \"match_type\": {\"type\": \"string\", \"enum\": [\"exact\", \"contains\"], \"description\": \"The match type to use\"}}, \"required\": [\"title\", \"match_type\"]}}}, {\"type\": \"function\", \"function\": {\"name\": \"custom_db_query\", \"description\": \"For questions that require a custom database query. Like counts, sums, recommendations, etc.\", \"parameters\": {\"type\": \"object\", \"properties\": {\"question\": {\"type\": \"string\", \"description\": \"The question to find the answer for\"}}, \"required\": [\"question\"]}}}]\n",
      "Expanded questions: ['What are two of the highest rated movies that Robert De Niro has acted in?', 'What are the plots in those movies?']\n",
      "Updated question: ['What are two of the highest rated movies that Robert De Niro has acted in according to IMDb ratings?']\n",
      "Text2Cypher invoked: Two highest rated movies that Robert De Niro has acted in according to IMDb ratings\n",
      "MATCH (m:Movie)-[a:ACTED_IN]-(p:Person {name: \"Robert De Niro\"})\n",
      "RETURN m.title as Movie, m.imdbRating as Rating\n",
      "ORDER BY m.imdbRating desc\n",
      "LIMIT 2;\n",
      "Response from tools: ['[{\"Movie\": \"Godfather: Part II, The\", \"Rating\": 9.0}, {\"Movie\": \"Goodfellas\", \"Rating\": 8.7}]']\n",
      "Updated question: [\"What are the plots of the two highest rated movies that Robert De Niro has acted in, 'Godfather: Part II' and 'Goodfellas'?\"]\n",
      "MovieStrategy invoked: 'Godfather: Part II' 'exact'\n",
      "MovieStrategy invoked: 'Goodfellas' 'exact'\n",
      "Response from tools: ['No plot found for the movie', '[{\"movie\": {\"title\": \"Goodfellas\", \"year\": 1990, \"plot\": \"Henry Hill and his friends work their way up through the mob hierarchy.\"}, \"actors\": [{\"name\": \"Ray Liotta\", \"role\": \"Henry Hill\"}, {\"name\": \"Lorraine Bracco\", \"role\": \"Karen Hill\"}, {\"name\": \"Joe Pesci\", \"role\": \"Tommy DeVito\"}, {\"name\": \"Robert De Niro\", \"role\": \"James Conway\"}]}]']\n",
      "--- output ---\n",
      "Two of the highest rated movies that Robert De Niro has acted in are \"Godfather: Part II\" with a rating of 9.0 and \"Goodfellas\" with a rating of 8.7.\n",
      "\n",
      "The plot for \"Godfather: Part II\" is not provided.\n",
      "\n",
      "The plot for \"Goodfellas\" is: Henry Hill and his friends work their way up through the mob hierarchy. The movie was released in 1990 and stars actors like Ray Liotta, Lorraine Bracco, Joe Pesci, and Robert De Niro in the role of James Conway.\n"
     ]
    }
   ],
   "source": [
    "response = rag_app.handle_input('What are two the highest rated movies Robert De Niro has acted in? What are the plots in those movies?')\n",
    "print(\"--- output ---\")\n",
    "print(response)"
   ]
  }
 ],
 "metadata": {
  "kernelspec": {
   "display_name": "Python 3",
   "language": "python",
   "name": "python3"
  },
  "language_info": {
   "codemirror_mode": {
    "name": "ipython",
    "version": 3
   },
   "file_extension": ".py",
   "mimetype": "text/x-python",
   "name": "python",
   "nbconvert_exporter": "python",
   "pygments_lexer": "ipython3",
   "version": "3.11.6"
  }
 },
 "nbformat": 4,
 "nbformat_minor": 2
}
